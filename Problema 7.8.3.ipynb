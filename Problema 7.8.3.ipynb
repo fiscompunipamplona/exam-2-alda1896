{
 "cells": [
  {
   "cell_type": "markdown",
   "metadata": {},
   "source": [
    "**Problema 7.8.3** En 1929, Edwin Hubble examinó los datos que relacionan la velocidad radial v de 24 nebulosas galácticas con su distancia r de nuestra galaxia . Aunque hubo una dispersión considerable en los datos, los ajustó con una línea recta:\n",
    "\n",
    "\\begin{equation}\n",
    "v=Hr\n",
    "\\end{equation}\n",
    "\n",
    "donde H  la constante de Hubble.\n",
    "\n",
    "a) Grafique los datos para verificar la idoneidad de una relación lineal:\n",
    "\n",
    "\\begin{equation}\n",
    "v (r) ≃ a + Hr\n",
    "\\end{equation}"
   ]
  },
  {
   "cell_type": "code",
   "execution_count": 2,
   "metadata": {},
   "outputs": [],
   "source": [
    "from numpy import loadtxt, log, sqrt\n",
    "import matplotlib.pyplot as plt\n",
    "from matplotlib.pyplot import legend"
   ]
  },
  {
   "cell_type": "code",
   "execution_count": 3,
   "metadata": {},
   "outputs": [],
   "source": [
    "data = loadtxt('dataHubble.txt')"
   ]
  },
  {
   "cell_type": "code",
   "execution_count": 4,
   "metadata": {},
   "outputs": [
    {
     "data": {
      "image/png": "[encoded data removed]",
      "text/plain": [
       "<Figure size 432x288 with 1 Axes>"
      ]
     },
     "metadata": {
      "needs_background": "light"
     },
     "output_type": "display_data"
    }
   ],
   "source": [
    "plt.plot(data[:,0], data[:,1], 'o')\n",
    "plt.xlabel('radio [Mpc]')\n",
    "plt.ylabel('velocidad [km/s]')\n",
    "plt.show()"
   ]
  },
  {
   "cell_type": "markdown",
   "metadata": {},
   "source": [
    " Debido a que los datos son muy dispersos no parece muy adecuado realizar una regreción lineal.\n",
    " \n",
    "b) Ya que no recibe los errores para cada medición, puede suponer que la cifra menos significativa se ha redondeado y, por lo tanto, σ ≥ 1. O puede suponer que las mediciones astronómicas son difíciles de realizar y que hay al menos 10 % de errores en los datos.\n",
    "\n",
    "c) Calcule un ajuste de línea recta por mínimos cuadrados a estos datos."
   ]
  },
  {
   "cell_type": "code",
   "execution_count": 66,
   "metadata": {},
   "outputs": [],
   "source": [
    "def Mincu(dat):\n",
    "    n = len(dat[:,0])\n",
    "    err = sqrt(n)\n",
    "    \n",
    "    s = 0\n",
    "    sx = 0\n",
    "    sy = 0\n",
    "    sxx = 0\n",
    "    sxy = 0\n",
    "    delta = 0\n",
    "\n",
    "    for i in range(n):\n",
    "        s += 1/(err*err)\n",
    "        sx += dat[i,0]\n",
    "        sy += (dat[i,1])\n",
    "        sxx += (dat[i,0]*dat[i,0] )   \n",
    "        sxy += (dat[i,0]*(dat[i,1]) )\n",
    "     \n",
    "    \n",
    "    sx /= (err*err)\n",
    "    sy /= (err*err)\n",
    "    sxx /= (err*err)\n",
    "    sxy /= (err*err)\n",
    "\n",
    "    delta = s*sxx - (sx*sx)\n",
    "    \n",
    "    vb=sxx/delta #varianza del intercepto\n",
    "    va=s/delta   #varianza de la pendiente\n",
    "\n",
    "    b = (sxx*sy - sx*sxy) / delta  #intercepto\n",
    "    m = (s*sxy - sx*sy) / delta    #pendiente\n",
    "    \n",
    "    return m,b,va,vb"
   ]
  },
  {
   "cell_type": "code",
   "execution_count": 67,
   "metadata": {},
   "outputs": [
    {
     "name": "stdout",
     "output_type": "stream",
     "text": [
      "H= 454.15844092262836 [km/s/mps]\n",
      "b= -40.783649095860476\n"
     ]
    }
   ],
   "source": [
    "m,b,vm,vn=Mincu(data)\n",
    "\n",
    "print(\"H=\",m,\"[km/s/mps]\")\n",
    "print(\"b=\",b)\n",
    "\n",
    "Y = [(m*i+n) for i in data[:,0]]\n"
   ]
  },
  {
   "cell_type": "markdown",
   "metadata": {},
   "source": [
    "d) Trace su mejor a + Hr en la curva con los datos."
   ]
  },
  {
   "cell_type": "code",
   "execution_count": 68,
   "metadata": {},
   "outputs": [
    {
     "data": {
      "image/png": "[encoded data removed]",
      "text/plain": [
       "<Figure size 432x288 with 1 Axes>"
      ]
     },
     "metadata": {
      "needs_background": "light"
     },
     "output_type": "display_data"
    }
   ],
   "source": [
    "plt.plot(data[:,0], data[:,1], 'o', label=\"V(r)\")\n",
    "plt.plot(data[:,0], Y, 'y-', label=\"ajuste\")\n",
    "plt.xlabel('radio [Mpc]')\n",
    "plt.ylabel('velocidad [km/s]')\n",
    "plt.show()"
   ]
  },
  {
   "cell_type": "markdown",
   "metadata": {},
   "source": [
    "e) Después de ajustar los datos, calcule la varianza y compárela con la desviación de su ajuste de los datos.\n",
    "Verifique que aproximadamente un tercio de los puntos pierdan la banda de error σ (eso es lo que se espera para una distribución normal de errores)."
   ]
  },
  {
   "cell_type": "code",
   "execution_count": 69,
   "metadata": {},
   "outputs": [
    {
     "name": "stdout",
     "output_type": "stream",
     "text": [
      "varianza= 56268.19455810235\n"
     ]
    }
   ],
   "source": [
    "n=len(data[:,1])\n",
    "v=0\n",
    "for i in range (n): \n",
    "    v +=((data[i,1]-Y[i])**2)\n",
    "v=v/(n-1)\n",
    "print(\"varianza=\",v)"
   ]
  },
  {
   "cell_type": "markdown",
   "metadata": {},
   "source": [
    "f) Use su varianza calculada para determinar el χ2 del ajuste. Comenta sobre el valor obtenido\n",
    "\n",
    "\\begin{equation}\n",
    "\\chi ^{2}=\\sum_{i=1}^{N}\\left ( \\frac{y_{i}-g(x_{i};\\left \\{a_{m}  \\right \\})}{\\sigma_{i} } \\right )^{2}\n",
    "\\end{equation}"
   ]
  },
  {
   "cell_type": "code",
   "execution_count": 71,
   "metadata": {},
   "outputs": [
    {
     "name": "stdout",
     "output_type": "stream",
     "text": [
      "X^2= 0.00040875667294159\n"
     ]
    }
   ],
   "source": [
    "chi=0\n",
    "for i in range (n): \n",
    "    chi +=(((data[i,1]-Y[i]))/v)**2\n",
    "\n",
    "print(\"X^2=\",chi)"
   ]
  },
  {
   "cell_type": "markdown",
   "metadata": {},
   "source": [
    "\n",
    "g) Determine las varianzas σm y σb y verifique si tiene sentido usarlas como errores en los valores deducidos para a y b.\n",
    "\n",
    "\\begin{equation}\n",
    "\\sigma_{b} ^{2}=\\frac{S_{xx}}{\\Delta} \n",
    "\\end{equation}\n",
    "\n",
    "\\begin{equation}\n",
    "\\sigma_{b} ^{2}=\\frac{S_{xx}}{\\Delta} \n",
    "\\end{equation}"
   ]
  },
  {
   "cell_type": "code",
   "execution_count": 88,
   "metadata": {},
   "outputs": [
    {
     "name": "stdout",
     "output_type": "stream",
     "text": [
      "varianza de m= 2.504359248142834\n",
      "varianza de n= 3.0801317872097638\n"
     ]
    }
   ],
   "source": [
    "print(\"varianza de m=\", vm )\n",
    "print(\"varianza de n=\", vn )\n"
   ]
  }
 ],
 "metadata": {
  "kernelspec": {
   "display_name": "Python 3",
   "language": "python",
   "name": "python3"
  },
  "language_info": {
   "codemirror_mode": {
    "name": "ipython",
    "version": 3
   },
   "file_extension": ".py",
   "mimetype": "text/x-python",
   "name": "python",
   "nbconvert_exporter": "python",
   "pygments_lexer": "ipython3",
   "version": "3.5.2"
  }
 },
 "nbformat": 4,
 "nbformat_minor": 2
}
