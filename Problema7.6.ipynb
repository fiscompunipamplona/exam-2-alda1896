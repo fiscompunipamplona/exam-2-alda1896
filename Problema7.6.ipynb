{
 "cells": [
  {
   "cell_type": "markdown",
   "metadata": {},
   "source": [
    "**Problema 7.6.**  La Figura presenta datos experimentales reales sobre el número de desintegraciones ΔN del π mesón en función del tiempo, el tiempo se ha \"agrupado\" en intervalos Δt = 10 ns y la curva suave es la disminución exponencial teórica esperada para números muy grandes de piones. Su problema es deducir la vida útil τ del mesón π a partir de estos datos (la vida útil tabulada del pión es 2.6 × 10−8 s).\n",
    " \n",
    " <img src= 'Curva_teorica.PNG'>\n",
    " \n",
    " \n",
    " La función analítica que describe el decaimiento puede ser encontrada partiendo de la siguiente ecuación diferencial:\n",
    " \n",
    " \\begin{equation}\n",
    " \\frac{dN}{dt}=-\\frac{1}{\\tau}N(t) \n",
    " \\end{equation}\n",
    " \n",
    " \n",
    " \\begin{equation}\n",
    " \\frac{dN}{N}=-\\frac{dt}{\\tau}   \n",
    " \\end{equation}\n",
    " \n",
    " \\begin{equation}\n",
    " \\int \\frac{dN}{N}=\\int -\\frac{dt}{\\tau}  \n",
    " \\end{equation}\n",
    " \n",
    " \\begin{equation} \n",
    " ln(N)=-\\frac{t}{\\tau }+N_{0}      \n",
    " \\end{equation}\n",
    " \n",
    " \\begin{equation}\n",
    " e^{N}=e^{-\\frac{t}{\\tau }+N_{o}}  \\rightarrow  N(t)=N_{o}e^{-\\frac{t}{\\tau}}   \n",
    " \\end{equation}"
   ]
  },
  {
   "cell_type": "code",
   "execution_count": 1,
   "metadata": {},
   "outputs": [],
   "source": [
    "from numpy import loadtxt, log, sqrt\n",
    "import matplotlib.pyplot as plt\n",
    "from matplotlib.pyplot import legend"
   ]
  },
  {
   "cell_type": "markdown",
   "metadata": {},
   "source": [
    "En principio extraemos  los datos de los archivos de texto y graficamos el número de decaimientos en función del tiempo para corroborar que se corresponden con los puntos de la grafica experimental"
   ]
  },
  {
   "cell_type": "code",
   "execution_count": 2,
   "metadata": {},
   "outputs": [],
   "source": [
    "data1 = loadtxt('pion_decay_rubin.dat')\n",
    "data2= loadtxt('decayPiMeson.dat')"
   ]
  },
  {
   "cell_type": "code",
   "execution_count": 3,
   "metadata": {
    "scrolled": true
   },
   "outputs": [
    {
     "data": {
      "image/png": "[encoded data removed]",
      "text/plain": [
       "<Figure size 432x288 with 1 Axes>"
      ]
     },
     "metadata": {
      "needs_background": "light"
     },
     "output_type": "display_data"
    }
   ],
   "source": [
    "plt.plot(data1[:,0], data1[:,1], 'o', label='data1')\n",
    "plt.plot(data2[:,0], data2[:,1], 'o',label='data2')\n",
    "legend(loc='lower left')\n",
    "plt.xlabel('t [ns]')\n",
    "plt.ylabel('N')\n",
    "plt.show()"
   ]
  },
  {
   "cell_type": "markdown",
   "metadata": {},
   "source": [
    "Ahora graficaremos los datos del logaritmo de N en función del tiempo, para optener una función lineal análoga a:\n",
    "\n",
    "\\begin{equation} \n",
    "ln(N)=N_{0} -\\frac{t}{\\tau }     \n",
    "\\end{equation}"
   ]
  },
  {
   "cell_type": "code",
   "execution_count": 4,
   "metadata": {
    "scrolled": true
   },
   "outputs": [
    {
     "data": {
      "image/png": "[encoded data removed]",
      "text/plain": [
       "<Figure size 432x288 with 1 Axes>"
      ]
     },
     "metadata": {
      "needs_background": "light"
     },
     "output_type": "display_data"
    }
   ],
   "source": [
    "plt.plot(data1[:,0], log(data1[:,1]),'o', label='data1')\n",
    "plt.plot(data2[:,0], log(data2[:,1]),'o',label='data2')\n",
    "plt.xlabel('t [ns]')\n",
    "plt.ylabel('ln(N)')\n",
    "legend(loc='lower left')\n",
    "plt.show()"
   ]
  },
  {
   "cell_type": "markdown",
   "metadata": {},
   "source": [
    "Usando el método de regresión lineal por mínimos cuadrado hayamos la recta que se ajusta a los datos"
   ]
  },
  {
   "cell_type": "code",
   "execution_count": 5,
   "metadata": {},
   "outputs": [],
   "source": [
    "def Mincu(dat):\n",
    "    n = len(dat[:,0])\n",
    "    err = sqrt(n)\n",
    "    \n",
    "    s = 0\n",
    "    sx = 0\n",
    "    sy = 0\n",
    "    sxx = 0\n",
    "    sxy = 0\n",
    "    delta = 0\n",
    "\n",
    "    for i in range(n):\n",
    "        s += 1/(err*err)\n",
    "        sx += dat[i,0]\n",
    "        sy += log(dat[i,1])\n",
    "        sxx += (dat[i,0]*dat[i,0] )   \n",
    "        sxy += (dat[i,0]*log(dat[i,1]) )\n",
    "    \n",
    "    sx /= (err*err)\n",
    "    sy /= (err*err)\n",
    "    sxx /= (err*err)\n",
    "    sxy /= (err*err)\n",
    "\n",
    "    delta = s*sxx - (sx*sx)\n",
    "\n",
    "    b = (sxx*sy - sx*sxy) / delta  #intercepto\n",
    "    a = (s*sxy - sx*sy) / delta    #pendiente\n",
    "\n",
    "    return a,b"
   ]
  },
  {
   "cell_type": "markdown",
   "metadata": {},
   "source": [
    "Con los datos de la regresión lineal encontramos los parámetros de una recta: la pendiente a y el intercepto b, con los cuales definimos una función lineal y  la graficamos junto con los datos.\n",
    "\n",
    "\\begin{equation} \n",
    "y=b+ax \n",
    "\\end{equation} "
   ]
  },
  {
   "cell_type": "code",
   "execution_count": 6,
   "metadata": {},
   "outputs": [
    {
     "name": "stdout",
     "output_type": "stream",
     "text": [
      "a1= -0.03159701673833026 [ns]^-1\n",
      "b1= 3.611024907430632\n",
      "a2= -0.028120744167616542 [ns]^-1\n",
      "b2= 3.334200262407691\n"
     ]
    }
   ],
   "source": [
    "a1,b1=Mincu(data1)\n",
    "a2,b2=Mincu(data2)\n",
    "\n",
    "print(\"a1=\", a1,\"[ns]^-1\")\n",
    "print(\"b1=\", b1,)\n",
    "print(\"a2=\", a2,\"[ns]^-1\")\n",
    "print(\"b2=\", b2,)\n",
    "\n",
    "Y1 = [ (a1*i+b1) for i in data1[:,0] ]\n",
    "Y2 = [ (a2*i+b2) for i in data2[:,0] ]\n"
   ]
  },
  {
   "cell_type": "code",
   "execution_count": 7,
   "metadata": {},
   "outputs": [
    {
     "data": {
      "image/png": "[encoded data removed]",
      "text/plain": [
       "<Figure size 432x288 with 1 Axes>"
      ]
     },
     "metadata": {
      "needs_background": "light"
     },
     "output_type": "display_data"
    }
   ],
   "source": [
    "plt.plot(data1[:,0], log(data1[:,1]), 'o', label=\"ln(data1)\")\n",
    "plt.plot(data1[:,0], Y1, 'y-', label=\"ajuste1\")\n",
    "plt.plot(data2[:,0], log(data2[:,1]), 'o' , label=\"ln(data2)\")\n",
    "plt.plot(data2[:,0], Y2, '--', label=\"ajuste2\")\n",
    "plt.xlabel('t [ns]')\n",
    "plt.ylabel('ln(N)')\n",
    "legend(loc='lower left')\n",
    "plt.show()"
   ]
  },
  {
   "cell_type": "markdown",
   "metadata": {},
   "source": [
    "Para hallar el valor de tao podemos comprar ambas ecuaciones y observar que tao debería corresponde al inverso de la pendiente  de la función hallada con la regresión lineal\n",
    "\n",
    "\n",
    "\\begin{equation} \n",
    "ln(N)=N_{0}-\\frac{t}{\\tau }      \n",
    "\\end{equation}\n",
    "\n",
    "\\begin{equation} \n",
    "Y=b+ax    \n",
    "\\end{equation}\n",
    "\n",
    "\\begin{equation} \n",
    "  \\tau= - \\frac{1}{a}   \n",
    "\\end{equation}"
   ]
  },
  {
   "cell_type": "code",
   "execution_count": 8,
   "metadata": {},
   "outputs": [
    {
     "name": "stdout",
     "output_type": "stream",
     "text": [
      "tao1= 3.164855746608833e-08 segundos\n",
      "tao2= 3.556093658259536e-08 segundos\n",
      "error1= 21.725221023416655 %\n",
      "error1= 36.77283300998214 %\n"
     ]
    }
   ],
   "source": [
    "tao1=-(1/a1)*1e-9\n",
    "tao2=-(1/a2)*1e-9\n",
    "print(\"tao1=\",tao1,\"segundos\")\n",
    "print(\"tao2=\",tao2,\"segundos\")\n",
    "\n",
    "Tteo= 2.6*1e-8\n",
    "\n",
    "Er1= abs((Tteo-tao1)/Tteo)*100\n",
    "Er2= abs((Tteo-tao2)/Tteo)*100\n",
    "\n",
    "print(\"error1=\",Er1,\"%\")\n",
    "print(\"error1=\",Er2,\"%\")"
   ]
  },
  {
   "cell_type": "markdown",
   "metadata": {},
   "source": [
    "Ahora vamos a ajustar los datos a una curva exponencial haciendo uso de la función curve_fit"
   ]
  },
  {
   "cell_type": "code",
   "execution_count": 9,
   "metadata": {},
   "outputs": [],
   "source": [
    "from scipy.optimize import curve_fit\n",
    "from scipy.optimize import leastsq\n",
    "from numpy import exp as npexp\n",
    "\n",
    "def f_exp(x, m, n):\n",
    "    return n*npexp(m*x)\n",
    "\n",
    "popt1, pcov1 = curve_fit(f_exp, data1[:,0], data1[:,1],[0,0])\n",
    "popt2, pcov2 = curve_fit(f_exp, data2[:,0], data2[:,1],[0,0])"
   ]
  },
  {
   "cell_type": "code",
   "execution_count": 10,
   "metadata": {},
   "outputs": [
    {
     "data": {
      "image/png": "[encoded data removed]",
      "text/plain": [
       "<Figure size 432x288 with 1 Axes>"
      ]
     },
     "metadata": {
      "needs_background": "light"
     },
     "output_type": "display_data"
    }
   ],
   "source": [
    "plt.plot(data1[:,0], data1[:,1], 'o', label=\"data1\")\n",
    "plt.plot(data2[:,0], data2[:,1], 'o', label=\"data2\")\n",
    "plt.plot(data1[:,0], f_exp(data1[:,0], *popt1), label=\"exp1\")\n",
    "plt.plot(data2[:,0], f_exp(data2[:,0], *popt2), '--',label=\"exp2\")\n",
    "plt.xlabel('t [ns]')\n",
    "plt.ylabel('N')\n",
    "legend(loc='lower left')\n",
    "plt.show()\n",
    "plt.show()"
   ]
  },
  {
   "cell_type": "markdown",
   "metadata": {},
   "source": [
    "Podemos de calcular el valor de tao comparando las ecuaciones exponenciales \n",
    "\n",
    "\\begin{equation}\n",
    " N(t)=N_{o}e^{-\\frac{t}{\\tau}}   \n",
    "\\end{equation}\n",
    "\n",
    "\\begin{equation}\n",
    " Y=be^{mx}   \n",
    "\\end{equation}\n",
    "\n",
    "entonces:\n",
    "\n",
    "\\begin{equation}\n",
    " \\tau=-\\frac{1}{m} \n",
    "\\end{equation}"
   ]
  },
  {
   "cell_type": "code",
   "execution_count": 14,
   "metadata": {},
   "outputs": [
    {
     "name": "stdout",
     "output_type": "stream",
     "text": [
      "tao3= 2.9742770853746504e-08 segundos\n",
      "tao4= 3.364653150794722e-08 segundos\n"
     ]
    }
   ],
   "source": [
    "m1=popt1[0] # valor optimo del parametro m \n",
    "tao3=(-1/m1)*1e-9\n",
    "m2=popt2[0] \n",
    "tao4=(-1/m2)*1e-9\n",
    "print(\"tao3=\",tao3,\"segundos\")\n",
    "print(\"tao4=\",tao4,\"segundos\")"
   ]
  },
  {
   "cell_type": "code",
   "execution_count": 16,
   "metadata": {},
   "outputs": [
    {
     "name": "stdout",
     "output_type": "stream",
     "text": [
      "error3= 14.395272514409625 %\n",
      "error4= 29.409736569027757 %\n"
     ]
    }
   ],
   "source": [
    "Er3= abs((Tteo-tao3)/Tteo)*100\n",
    "Er4= abs((Tteo-tao4)/Tteo)*100\n",
    "print(\"error3=\",Er3,\"%\")\n",
    "print(\"error4=\",Er4,\"%\")"
   ]
  },
  {
   "cell_type": "code",
   "execution_count": null,
   "metadata": {},
   "outputs": [],
   "source": []
  }
 ],
 "metadata": {
  "kernelspec": {
   "display_name": "Python 3",
   "language": "python",
   "name": "python3"
  },
  "language_info": {
   "codemirror_mode": {
    "name": "ipython",
    "version": 3
   },
   "file_extension": ".py",
   "mimetype": "text/x-python",
   "name": "python",
   "nbconvert_exporter": "python",
   "pygments_lexer": "ipython3",
   "version": "3.5.2"
  }
 },
 "nbformat": 4,
 "nbformat_minor": 2
}
