{
 "cells": [
  {
   "cell_type": "markdown",
   "metadata": {},
   "source": [
    "Siendo la densidad superficial de carga:\n",
    "\n",
    "\\begin{equation}\n",
    "\\sigma (\\theta )=\\frac{R-\\frac{R^{2}}{d}}{4\\pi (R^{2}+d^{2}-2Rdcos\\theta )^{\\frac{1}{2}}}q\n",
    "\\end{equation}\n",
    "\n",
    "Encuentre la carga total inducida en la esfera\n",
    "\n",
    "Para \n",
    "\n",
    "R=20\n",
    "\n",
    "d=1\n",
    "\n",
    "q= e\n",
    "\n",
    "\n",
    "\\begin{equation}\n",
    "Q=\\int_{0}^{2\\pi }\\int_{0}^{\\pi }\\sigma (\\theta )R^{2}sen\\theta d\\phi d \\theta=-\\frac{R}{d}q\n",
    "\\end{equation}"
   ]
  },
  {
   "cell_type": "code",
   "execution_count": 46,
   "metadata": {},
   "outputs": [],
   "source": [
    "from numpy import loadtxt, log, sqrt\n",
    "from math import pi,cos, sin\n",
    "import numpy as np\n",
    "import matplotlib.pyplot as plt\n",
    "from matplotlib.pyplot import legend"
   ]
  },
  {
   "cell_type": "code",
   "execution_count": 56,
   "metadata": {},
   "outputs": [],
   "source": [
    "R=20 #cm\n",
    "q=-1.60*1e-19 #e\n",
    "d=1 #cm\n",
    "\n",
    "def fun(the,phi):\n",
    "    return q*(R**2)*sin(the)*(R-((R**2)/2))/(4*pi*(((R**2)+(d**2)-2*R*d*cos(the)))**(1/2))\n"
   ]
  },
  {
   "cell_type": "code",
   "execution_count": 57,
   "metadata": {},
   "outputs": [],
   "source": [
    "# integral doble \n",
    "N=100# numero de intervalos\n",
    "n=N+1 # numero de puntos\n",
    "the0=0  \n",
    "then=pi\n",
    "phi0=0\n",
    "phin=2*pi\n",
    "\n",
    "hthe=(then-the0)/N\n",
    "hphi=(phin-phi0)/N\n",
    "\n",
    "THE=[]\n",
    "for j in np.linspace(0,phin,n):\n",
    "    S=0\n",
    "    for i in np.linspace(hthe,then,N-1):\n",
    "         S +=fun(i,j)\n",
    "    Ithe=(hthe/2)*(fun(the0,j)+fun(then,j)+2*S)\n",
    "    THE.append(Ithe)   "
   ]
  },
  {
   "cell_type": "code",
   "execution_count": 58,
   "metadata": {},
   "outputs": [
    {
     "name": "stdout",
     "output_type": "stream",
     "text": [
      "1.1877819813360583e-17\n"
     ]
    }
   ],
   "source": [
    "s=0\n",
    "for j in range(1,N):\n",
    "    s +=THE[j]\n",
    "Int=(hphi/2)*(THE[0]+THE[N]+2*s)\n",
    "print(Int/48)"
   ]
  }
 ],
 "metadata": {
  "kernelspec": {
   "display_name": "Python 3",
   "language": "python",
   "name": "python3"
  },
  "language_info": {
   "codemirror_mode": {
    "name": "ipython",
    "version": 3
   },
   "file_extension": ".py",
   "mimetype": "text/x-python",
   "name": "python",
   "nbconvert_exporter": "python",
   "pygments_lexer": "ipython3",
   "version": "3.5.2"
  }
 },
 "nbformat": 4,
 "nbformat_minor": 2
}
